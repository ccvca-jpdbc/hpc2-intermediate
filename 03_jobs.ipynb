{
 "cells": [
  {
   "cell_type": "markdown",
   "id": "f4f0cbc7-21e9-48ab-b902-288f1d692ff6",
   "metadata": {},
   "source": [
    "# 1. JOBS NO DEUCALION (A PARTIR DO JUPYTER)\n",
    "\n",
    "> Objetivo: preparar, comentar e submeter um job simples de MPI em Python, validando conta, módulos, e recursos ARM, a partir de células no Jupyter.\n",
    "\n",
    "## 1.1 Verificar conta e associações SLURM"
   ]
  },
  {
   "cell_type": "code",
   "execution_count": null,
   "id": "d35f0bae-0c18-42a8-aa8d-91241e04d854",
   "metadata": {
    "tags": []
   },
   "outputs": [],
   "source": [
    "!whoami                          # mostra o nome do username\n",
    "!billing                         # mostra a(s) conta(s) de billing com o nome completo"
   ]
  },
  {
   "cell_type": "markdown",
   "id": "11122b81-9b73-40c7-b7b2-722f90d0c6a3",
   "metadata": {},
   "source": [
    "## 1.2 Confirmar ambiente e módulos atuais"
   ]
  },
  {
   "cell_type": "code",
   "execution_count": null,
   "id": "440f7f0c-e5fd-4739-b37e-15e10678b72b",
   "metadata": {
    "tags": []
   },
   "outputs": [],
   "source": [
    "!hostname      # Verifica em que nó se está ligado (ex.: ln01). Útil para confirmar que é o login node.\n",
    "!which python  # Caminho absoluto do executável Python ativo. Deve apontar para o Python do módulo carregado\n",
    "!python -V     # Versão exata do Python atualmente em uso. Confirma se corresponde ao módulo carregado.\n",
    "!module list   # Lista a pilha de módulos carregados na sessão do kernel (herdados). "
   ]
  },
  {
   "cell_type": "markdown",
   "id": "c6ec3efa-0160-4cb8-ad30-c64e8d195033",
   "metadata": {},
   "source": [
    "## 1.3 Ver recursos: login node vs nós ARM"
   ]
  },
  {
   "cell_type": "code",
   "execution_count": null,
   "id": "a896f82a-d631-416d-8cf2-d70386fd209c",
   "metadata": {
    "tags": []
   },
   "outputs": [],
   "source": [
    "!lscpu"
   ]
  },
  {
   "cell_type": "markdown",
   "id": "cc129f9c-ba32-4f36-81af-924623fb9ee3",
   "metadata": {
    "tags": []
   },
   "source": [
    "Este comando refere-se ao *login node*.\n",
    "\n",
    "Em Python MPI lidamos com um processo por CPU Core. Não usamos Threads.\n",
    "\n",
    "Observando o resultado:\n",
    "\n",
    " - CPU(s):              256\n",
    " - Thread(s) per core:  2\n",
    " - Core(s) per socket:  64\n",
    " - Socket(s):           2\n",
    " \n",
    ">Como existem **dois Threads por CPU Core** vemos 256 CPU's lógicos.\n",
    "\n",
    ">Na realidade temos 2 sockets com **64 CPU Cores** cada um, logo temos disponíveis **128 CPU Cores**.\n",
    "\n",
    ">Isto permite-nos ter **128 processos a correr em paralelo** pois fica cada um a correr num CPU Core.\n"
   ]
  },
  {
   "cell_type": "code",
   "execution_count": null,
   "id": "01306ab0-9b2c-4bc2-81c3-9b1dc6f6d2e6",
   "metadata": {
    "tags": []
   },
   "outputs": [],
   "source": [
    "!sacctmgr -Pn show assoc where user=$USER format=Account,Partition #Verifica quais as nossas contas e se tem restrições de nodes"
   ]
  },
  {
   "cell_type": "code",
   "execution_count": null,
   "id": "1a5babff-d2ce-4c0c-bd7e-525f7e28340f",
   "metadata": {
    "tags": []
   },
   "outputs": [],
   "source": [
    "!sacctmgr -Pn show assoc where user=$USER format=Account,Partition,QOS # Acrescenta o sistema de prioridades"
   ]
  },
  {
   "cell_type": "code",
   "execution_count": null,
   "id": "7fb48dfb-6726-4852-865e-0462b3e14c83",
   "metadata": {
    "tags": []
   },
   "outputs": [],
   "source": [
    "!sinfo # Mostra a lista de partições e nós, estado, etc.."
   ]
  },
  {
   "cell_type": "markdown",
   "id": "f25343a0-24ff-4b4c-a4bc-a156ec08a10a",
   "metadata": {},
   "source": [
    "**Interpretação da saída do comando sinfo**\n",
    "\n",
    ">O comando **sinfo** apresenta o estado das partições do cluster, agregando informação operacional relevante para planear a submissão de jobs.\n",
    "\n",
    "Campos principais\n",
    "\n",
    ">PARTITION — designação da partição (ex.: dev-arm, normal-arm, large-arm, *-x86, *-a100-*).\n",
    "\n",
    ">AVAIL — disponibilidade atual da partição (ex.: up).\n",
    "\n",
    ">TIMELIMIT — tempo máximo permitido por job na partição (ex.: 4:00:00, 2-00:00:00).\n",
    "\n",
    ">NODES — número de nós incluídos na linha (com o estado indicado).\n",
    "\n",
    ">STATE — estado operacional dos nós agregados nessa linha:\n",
    "\n",
    ">idle (livres), alloc (totalmente alocados), mix (parcialmente alocados),\n",
    "\n",
    ">down (indisponíveis), drain/drain* (retirados da fila), comp (em conclusão/remoção).\n",
    "\n",
    ">NODELIST — identificação dos nós, possivelmente compactada por intervalos (ex.: cna[0052-1547]).\n",
    "\n",
    "**Leitura e decisões**\n",
    "\n",
    ">Arquitetura: partições *-arm correspondem a nós CPU ARM; *-x86 a nós CPU x86; *-a100-* a nós GPU (NVIDIA A100).\n",
    "\n",
    ">Capacidade e carga: a presença de linhas distintas por partição com estados diferentes (p. ex., alloc e idle) indica, respetivamente, nós ocupados e nós disponíveis.\n",
    "Exemplo: normal-arm … 111 alloc e normal-arm … 1501 idle significam 111 nós ocupados e 1501 nós disponíveis nessa partição.\n",
    "\n",
    ">Limites temporais: TIMELIMIT define o teto de execução por job nessa partição e deve ser compatível com a duração prevista do trabalho.\n",
    "\n",
    ">Elegibilidade: o acesso efetivo a uma partição pode ainda ser condicionado por políticas (AllowAccounts, AllowQos, etc.). A ausência de restrição na associação do utilizador/conta não garante, por si só, elegibilidade se a partição impuser filtros.\n",
    "\n",
    "**Estados (glossário sucinto)**\n",
    "\n",
    "| STATE            | Interpretação técnica                  |\n",
    "| ---------------- | -------------------------------------- |\n",
    "| `idle`           | Nó disponível para alocação de jobs    |\n",
    "| `alloc`          | Nó integralmente alocado               |\n",
    "| `mix`            | Nó parcialmente alocado                |\n",
    "| `down`           | Nó indisponível                        |\n",
    "| `drain`/`drain*` | Nó retirado para manutenção/isolamento |\n",
    "| `comp`           | Nó em fase de conclusão/remoção        |\n",
    "\n"
   ]
  },
  {
   "cell_type": "markdown",
   "id": "e205f37d-3aaa-4fc8-a17f-6cd6650676b3",
   "metadata": {},
   "source": [
    "## 1.4 Criar o script Python (MPI “Hello World”, 4 processos)\n",
    "\n",
    "Célula Jupyter para criar o ficheiro hello_mpi.py."
   ]
  },
  {
   "cell_type": "code",
   "execution_count": null,
   "id": "ca78299c-de51-48b9-a1e6-55adcef09134",
   "metadata": {},
   "outputs": [],
   "source": [
    "%%writefile hello_mpi.py\n",
    "from mpi4py import MPI\n",
    "\n",
    "comm = MPI.COMM_WORLD\n",
    "rank = comm.Get_rank()\n",
    "size = comm.Get_size()\n",
    "host = MPI.Get_processor_name()\n",
    "\n",
    "print(f\"Hello world from process {rank} of {size} on {host}\")"
   ]
  },
  {
   "cell_type": "markdown",
   "id": "3a431be8-5f20-4706-90b7-d07cad4d5280",
   "metadata": {},
   "source": [
    "**O que fazem as linhas do programa acima? - base do MPI (Message Passing Interface)**\n",
    "\n",
    ">%%writefile hello_mpi.py — diretiva do Jupyter que grava todo o conteúdo da célula num ficheiro chamado hello_mpi.py. Serve apenas para criar o script em disco a partir do notebook.\n",
    "\n",
    ">from mpi4py import MPI — importa o módulo MPI da biblioteca mpi4py, que expõe a interface padrão do MPI (communicators, ranks, envios/receções, operações coletivas) para uso em Python.\n",
    "\n",
    ">comm = MPI.COMM_WORLD — obtém o communicator global que inclui todos os processos do programa (todos os ranks do job). É o “canal” comum de comunicação entre processos.\n",
    "\n",
    ">rank = comm.Get_rank() — devolve o identificador inteiro deste processo dentro do communicator (rank), de 0 a size−1. Permite distinguir comportamentos por processo (por exemplo, apenas o rank 0 fazer I/O agregado).\n",
    "\n",
    ">size = comm.Get_size() — devolve o número total de processos presentes no communicator (tamanho do grupo). Útil para dimensionar decomposições de dados e controlos de fluxo.\n",
    "\n",
    ">host = MPI.Get_processor_name() — devolve o nome do nó físico onde este processo está a correr (por exemplo, cna0004…). Ajuda a confirmar a distribuição pelos nós do cluster.\n",
    "\n",
    ">print(f\"Hello world from process {rank} of {size} on {host}\") — imprime uma linha por processo com o rank, o total de processos e o nome do nó, confirmando que o programa está a executar em paralelo e de forma distribuída. Observação: a ordem das linhas no output pode não ser sequencial (0,1,2,3,…) porque todos os processos escrevem em paralelo para stdout."
   ]
  },
  {
   "cell_type": "markdown",
   "id": "f0f79068-f991-42d5-b644-8149f2ab64b9",
   "metadata": {},
   "source": [
    "## 1.5 Criar o job script SLURM\n",
    "\n",
    "Célula Jupyter para criar o ficheiro job_hello.sh.\n",
    "Nota: o carregamento de módulos faz-se dentro do job para garantir o stack correto nos nós ARM (o login é x86)."
   ]
  },
  {
   "cell_type": "code",
   "execution_count": null,
   "id": "a8c2dc5b-2cb8-4fbe-bf84-87027e0bb11f",
   "metadata": {},
   "outputs": [],
   "source": [
    "%%writefile job_hello.sh\n",
    "#!/bin/bash\n",
    "#SBATCH --job-name=hello4                 # Identificação do job\n",
    "#SBATCH --account=f202500003hpcvlabutada  # Conta/billing a usar\n",
    "#SBATCH --partition=dev-arm               # Partição ARM (trocar para normal-arm se necessário)\n",
    "#SBATCH --ntasks=4                        # Nº total de processos MPI (ranks)\n",
    "#SBATCH --cpus-per-task=1                 # 1 core por rank (MPI puro)\n",
    "#SBATCH --time=00:02:00                   # Limite temporal (curto, demonstração)\n",
    "#SBATCH --output=hello.txt                # Captura stdout (um ficheiro por job)\n",
    "\n",
    "# Garantir ambiente ARM coerente no compute node (não herdar do login x86)\n",
    "module purge\n",
    "module load foss/2022a\n",
    "module load Python/3.10.4-GCCcore-11.3.0\n",
    "module load SciPy-bundle/2022.05-foss-2022a\n",
    "# module load mpi4py ---> contido em SciPy-bundle\n",
    "\n",
    "# Lançamento recomendado em SLURM: 'srun' integra alocação, binding e PMIx/PMI\n",
    "# #SBATCH --ntasks=4 reserva 4 tarefas (ranks) para o job.\n",
    "#srun lança um job step dentro desse job.\n",
    "#Por omissão, srun usa 1 tarefa se não lhe \"disserem\" outra coisa.\n",
    "#Para usar as 4 tarefas reservadas, deve-se indicar -n 4 (ou -n ${SLURM_NTASKS}).\n",
    "\n",
    "srun -n 4 python hello_mpi.py #ou ---> srun -n ${SLURM_NTASKS} python hello_mpi.py\n",
    "\n"
   ]
  },
  {
   "cell_type": "markdown",
   "id": "df04d2d6-7429-4997-b723-978eedc430d4",
   "metadata": {},
   "source": [
    "Na próxima célula iniciamos o job cujo ficheiro é job_hello.sh, e cujo nome do job é #SBATCH --job-name=hello4 conforme indicado no script.\n",
    "\n",
    ">O \"programa/código\" chamado é o que está no ficheiro hello_mpi.py criado no ponto 1.4 acima.\n",
    "\n",
    ">Realmente é \"chamado\" 4 vezes. Cada processo corre uma vez esse código. É o que indica o número 4 em **srun** no job script."
   ]
  },
  {
   "cell_type": "code",
   "execution_count": 11,
   "id": "bb030b38-8681-4d51-bf0c-49ae1603a984",
   "metadata": {},
   "outputs": [
    {
     "name": "stdout",
     "output_type": "stream",
     "text": [
      "Submitted batch job 585806\n"
     ]
    }
   ],
   "source": [
    "!sbatch job_hello.sh"
   ]
  },
  {
   "cell_type": "markdown",
   "id": "e269af78-9417-46d2-b52d-64193f042e3d",
   "metadata": {},
   "source": [
    "Na próxima célula vemos o estado do job que foi submetido pelo scheduler SLURM aos nós de computação ARM."
   ]
  },
  {
   "cell_type": "code",
   "execution_count": 18,
   "id": "2e61bac0-a113-45b8-a979-217c084a21d1",
   "metadata": {},
   "outputs": [
    {
     "name": "stdout",
     "output_type": "stream",
     "text": [
      "             JOBID PARTITION     NAME     USER ST       TIME  NODES NODELIST(REASON)\n"
     ]
    }
   ],
   "source": [
    "!squeue --me"
   ]
  },
  {
   "cell_type": "markdown",
   "id": "7d46aa70-b472-484d-bc08-aeb406f4a85d",
   "metadata": {},
   "source": [
    "**Estados do squeue --me (resumo)**\n",
    "\n",
    "Os estados mais comuns que se podem ver na fila:\n",
    "\n",
    ">PD (PENDING) — o job está à espera de recursos/permits (conta, partição, QoS, nós).\n",
    "\n",
    ">R (RUNNING) — o job está a executar.\n",
    "\n",
    ">CG (COMPLETING) — a terminar (a libertar recursos/fechar ficheiros).\n",
    "\n",
    ">CD (COMPLETED) — terminou com sucesso (pode não aparecer dependendo da configuração).\n",
    "\n",
    ">F (FAILED) — terminou com erro.\n",
    "\n",
    ">TO (TIMEOUT) — excedeu o tempo limite (walltime).\n",
    "\n",
    ">NF/CA (NODE_FAIL/CANCELLED) — falha de nó / cancelado.\n",
    "\n",
    "\n",
    "Quando terminado podemos clicar no ficheiro de saida que neste caso chamamos **hello.txt** ou então usar numa celula **!cat hello.txt**\n",
    "\n",
    "## Porque é que as linhas não surgem “por ordem”?\n",
    "\n",
    "Em MPI, os 4 processos escrevem em paralelo para o stdout. A ordem de chegada das mensagens depende do agendador, do sistema de E/S e da rede.\n",
    "Logo, aparecerá algo como:\n",
    "\n",
    "Hello ... rank 2 ...\n",
    "Hello ... rank 0 ...\n",
    "Hello ... rank 3 ...\n",
    "Hello ... rank 1 ...\n",
    "\n",
    "\n",
    "Isto é normal: não há ordenação implícita do stdout em execução paralela.\n",
    "\n",
    "Como impor ordem (opcional): fazer o root (rank 0) imprimir por sequência de ranks:\n"
   ]
  },
  {
   "cell_type": "code",
   "execution_count": 53,
   "id": "4629e6dc-e157-42c2-922e-2fa80e6efd16",
   "metadata": {},
   "outputs": [
    {
     "name": "stdout",
     "output_type": "stream",
     "text": [
      "Overwriting hello_mpi.py\n"
     ]
    }
   ],
   "source": [
    "%%writefile hello_mpi.py\n",
    "from mpi4py import MPI\n",
    "\n",
    "comm = MPI.COMM_WORLD\n",
    "rank = comm.Get_rank()\n",
    "size = comm.Get_size()\n",
    "host = MPI.Get_processor_name()\n",
    "\n",
    "# Mensagem única, como no exemplo original, incluindo o host\n",
    "msg = f\"Hello world from process {rank} of {size} on {host}\"\n",
    "\n",
    "# Impressão ordenada por rank (0,1,2,...) para evitar mistura no stdout\n",
    "for r in range(size):\n",
    "    comm.Barrier()         # todos sincronizam neste passo\n",
    "    if rank == r:\n",
    "        print(msg, flush=True)\n",
    "\n",
    "# Sincroniza no final para garantir que todos terminaram antes de o job sair\n",
    "comm.Barrier()"
   ]
  },
  {
   "cell_type": "code",
   "execution_count": 54,
   "id": "fb302cee-1c62-48f9-964e-b4702bbc849a",
   "metadata": {},
   "outputs": [
    {
     "name": "stdout",
     "output_type": "stream",
     "text": [
      "Submitted batch job 585814\n"
     ]
    }
   ],
   "source": [
    "!sbatch job_hello.sh"
   ]
  },
  {
   "cell_type": "code",
   "execution_count": 60,
   "id": "b358c736-5feb-4767-b00a-e55de8ee71ee",
   "metadata": {},
   "outputs": [
    {
     "name": "stdout",
     "output_type": "stream",
     "text": [
      "             JOBID PARTITION     NAME     USER ST       TIME  NODES NODELIST(REASON)\n"
     ]
    }
   ],
   "source": [
    "!squeue --me"
   ]
  },
  {
   "cell_type": "markdown",
   "id": "4dc95bb2-9757-42b1-9c26-16848d0c5755",
   "metadata": {},
   "source": [
    "Para ver o resultado clicar duas vezes no ficheiro na estrutra de pastas à esquerda.\n",
    "\n",
    "Se o resultado não for o esperado acrescentar **?reset** ao URL do browser e voltar a abrir o ficheiro.\n",
    "\n",
    "### Mas o que faz este novo programa?\n",
    "\n",
    "Cada processo (rank) constrói a sua mensagem (msg) com “Hello world from process <rank> of <size> on <host>”.\n",
    "\n",
    "Começa um ciclo for r in range(size). Esse r é o “turno de impressão”: primeiro r=0, depois r=1, … até r=size-1.\n",
    "\n",
    "Em cada iteração do ciclo:\n",
    "\n",
    "Todos os processos executam comm.Barrier().\n",
    " - Isto faz com que todos esperem uns pelos outros antes de decidir quem imprime.\n",
    " - Garante que ninguém “se adianta” no turno seguinte.\n",
    "\n",
    "Depois da barreira, apenas o processo cujo rank == r imprime a sua mensagem.\n",
    " - Os restantes não imprimem nada nessa volta; ficam à espera de chegar à próxima barreira.\n",
    "\n",
    "Como consequência, na iteração r=0 só o rank 0 imprime. Na iteração r=1 só o rank 1 imprime. E assim sucessivamente, até r=size-1.\n",
    " - Isto impõe uma ordem determinística nas linhas do stdout: 0, 1, 2, …\n",
    " - O flush=True força a saída a ir imediatamente para o stdout, evitando que o buffer atrase a escrita e baralhe a ordem.\n",
    "\n",
    "No final (muitas vezes coloca-se ainda uma última Barrier()), todos sincronizam outra vez antes de terminar.\n",
    " - Evita que alguns processos saiam do programa enquanto outros ainda estão a imprimir.\n",
    "\n",
    "### Visualização passo a passo (exemplo com 4 processos: ranks 0,1,2,3)\n",
    "\n",
    ">Turno r=0\n",
    "\n",
    "Todos entram na barreira (0,1,2,3).\n",
    "\n",
    "Saem da barreira ao mesmo tempo.\n",
    "\n",
    "Só o rank 0 cumpre a condição rank == r → imprime a sua linha.\n",
    "\n",
    "Ranks 1,2,3 não imprimem nada nesta volta.\n",
    "\n",
    ">Turno r=1\n",
    "\n",
    "Todos entram novamente na barreira (0,1,2,3).\n",
    "\n",
    "Saem juntos.\n",
    "\n",
    "Só o rank 1 imprime.\n",
    "\n",
    "Os outros não imprimem.\n",
    "\n",
    ">Turno r=2\n",
    "\n",
    "Barreira → sair → imprime o rank 2.\n",
    "\n",
    ">Turno r=3\n",
    "\n",
    "Barreira → sair → imprime o rank 3.\n",
    "\n",
    "Resultado final no ficheiro/terminal:\n",
    "linha do rank 0 → linha do rank 1 → linha do rank 2 → linha do rank 3 (sempre nesta ordem).\n",
    "\n",
    "**Porque é que isto evita linhas desordenadas?**\n",
    "\n",
    "Sem estas barreiras e sem a condição “imprime apenas quem tem o turno”, todos os processos tentariam escrever ao mesmo tempo. A ordem dependeria de latência de rede, agendamento e E/S, logo poderia aparecer 2, 0, 3, 1, etc.\n",
    "Com o esquema “barreira + turno”, há um único emissor por volta, e por isso a ordem é garantida.\n",
    "\n",
    "**Observações**\n",
    "\n",
    " - Este método sacrifica um pouco de desempenho (há espera nas barreiras) para ganhar legibilidade determinística do stdout — excelente para ensino e depuração.\n",
    "\n",
    " - A mensagem inclui host para se ver em que nó cada rank correu — confirma a distribuição real no cluster."
   ]
  },
  {
   "cell_type": "code",
   "execution_count": null,
   "id": "174879e0-83c5-4ae5-b9d2-14a5f726bd17",
   "metadata": {},
   "outputs": [],
   "source": []
  }
 ],
 "metadata": {
  "kernelspec": {
   "display_name": "Python 3 (ipykernel)",
   "language": "python",
   "name": "python3"
  },
  "language_info": {
   "codemirror_mode": {
    "name": "ipython",
    "version": 3
   },
   "file_extension": ".py",
   "mimetype": "text/x-python",
   "name": "python",
   "nbconvert_exporter": "python",
   "pygments_lexer": "ipython3",
   "version": "3.12.4"
  }
 },
 "nbformat": 4,
 "nbformat_minor": 5
}
